{
  "nbformat": 4,
  "nbformat_minor": 0,
  "metadata": {
    "colab": {
      "provenance": [],
      "authorship_tag": "ABX9TyOT666/omQGYVZS0yassj6Y",
      "include_colab_link": true
    },
    "kernelspec": {
      "name": "python3",
      "display_name": "Python 3"
    },
    "language_info": {
      "name": "python"
    }
  },
  "cells": [
    {
      "cell_type": "markdown",
      "metadata": {
        "id": "view-in-github",
        "colab_type": "text"
      },
      "source": [
        "<a href=\"https://colab.research.google.com/github/rishisg/AI-Agent-Sales-Auto-Report/blob/main/DL_ANN_CreditCard_Fraud_Detection_TensorFlow.ipynb\" target=\"_parent\"><img src=\"https://colab.research.google.com/assets/colab-badge.svg\" alt=\"Open In Colab\"/></a>"
      ]
    },
    {
      "cell_type": "markdown",
      "source": [
        "📌 Credit Card Fraud Detection using Deep Learning\n",
        "✅ Dataset: Credit Card Fraud Detection (creditcard.csv) ✅ Goal: Identify fraudulent transactions (Binary Classification: Fraud vs. Non-Fraud) ✅ Approach: Train a Neural Network (ANN) with TensorFlow ✅ Evaluation: Accuracy, Precision, Recall, F1-score, AUC\n",
        "\n",
        "1️⃣ Setup & Import Libraries\n",
        "Before working with the dataset, we need the essential Python libraries.\n",
        "\n",
        "💡 Explanation\n",
        "🔹 pandas → Handles dataset 🔹 numpy → Works with numerical data 🔹 matplotlib & seaborn → Used for data visualization 🔹 tensorflow & keras → Used for deep learning model 🔹 sklearn → Used for splitting data, scaling values, and evaluation metrics"
      ],
      "metadata": {
        "id": "ZZ8UVhB3LjJ3"
      }
    },
    {
      "cell_type": "code",
      "execution_count": 1,
      "metadata": {
        "id": "OMDi1zENLifF"
      },
      "outputs": [],
      "source": [
        "import pandas as pd\n",
        "import numpy as np\n",
        "import matplotlib.pyplot as plt\n",
        "import seaborn as sns\n",
        "import tensorflow as tf\n",
        "from tensorflow import keras\n",
        "from tensorflow.keras.models import Sequential\n",
        "from tensorflow.keras.layers import Dense, Dropout\n",
        "from sklearn.model_selection import train_test_split\n",
        "from sklearn.preprocessing import StandardScaler\n",
        "from sklearn.metrics import accuracy_score, precision_score, recall_score, f1_score, roc_auc_score, confusion_matrix, roc_curve\n"
      ]
    },
    {
      "cell_type": "markdown",
      "source": [
        "2️⃣ Load & Explore the Dataset\n",
        "\n",
        "💡 Explanation\n",
        "✅ Loads the dataset into df ✅ Shows column names, missing values, and data types ✅ Displays sample data to understand the structure ✅ Class column → Fraud = 1, Non-Fraud = 0 (Binary Classification)"
      ],
      "metadata": {
        "id": "PWa41NDfL9Mm"
      }
    },
    {
      "cell_type": "code",
      "source": [
        "df = pd.read_csv(\"creditcard.csv\")  # Load dataset\n",
        "print(df.info())  # Display dataset details\n",
        "print(df.head())  # Show first few rows\n",
        "print(df[\"Class\"].value_counts())  # Check distribution of fraud vs. non-fraud transactions\n"
      ],
      "metadata": {
        "colab": {
          "base_uri": "https://localhost:8080/"
        },
        "id": "ruPYA5wIMCQf",
        "outputId": "087d84e1-c47d-47a3-86fb-7e47d99f6347"
      },
      "execution_count": 3,
      "outputs": [
        {
          "output_type": "stream",
          "name": "stdout",
          "text": [
            "<class 'pandas.core.frame.DataFrame'>\n",
            "RangeIndex: 11959 entries, 0 to 11958\n",
            "Data columns (total 31 columns):\n",
            " #   Column  Non-Null Count  Dtype  \n",
            "---  ------  --------------  -----  \n",
            " 0   Time    11959 non-null  int64  \n",
            " 1   V1      11959 non-null  float64\n",
            " 2   V2      11959 non-null  float64\n",
            " 3   V3      11959 non-null  float64\n",
            " 4   V4      11959 non-null  float64\n",
            " 5   V5      11959 non-null  float64\n",
            " 6   V6      11959 non-null  float64\n",
            " 7   V7      11959 non-null  float64\n",
            " 8   V8      11959 non-null  float64\n",
            " 9   V9      11959 non-null  float64\n",
            " 10  V10     11959 non-null  float64\n",
            " 11  V11     11959 non-null  float64\n",
            " 12  V12     11959 non-null  float64\n",
            " 13  V13     11959 non-null  float64\n",
            " 14  V14     11959 non-null  float64\n",
            " 15  V15     11959 non-null  float64\n",
            " 16  V16     11959 non-null  float64\n",
            " 17  V17     11959 non-null  float64\n",
            " 18  V18     11959 non-null  float64\n",
            " 19  V19     11959 non-null  float64\n",
            " 20  V20     11958 non-null  float64\n",
            " 21  V21     11958 non-null  float64\n",
            " 22  V22     11958 non-null  float64\n",
            " 23  V23     11958 non-null  float64\n",
            " 24  V24     11958 non-null  float64\n",
            " 25  V25     11958 non-null  float64\n",
            " 26  V26     11958 non-null  float64\n",
            " 27  V27     11958 non-null  float64\n",
            " 28  V28     11958 non-null  float64\n",
            " 29  Amount  11958 non-null  float64\n",
            " 30  Class   11958 non-null  float64\n",
            "dtypes: float64(30), int64(1)\n",
            "memory usage: 2.8 MB\n",
            "None\n",
            "   Time        V1        V2        V3        V4        V5        V6        V7  \\\n",
            "0     0 -1.359807 -0.072781  2.536347  1.378155 -0.338321  0.462388  0.239599   \n",
            "1     0  1.191857  0.266151  0.166480  0.448154  0.060018 -0.082361 -0.078803   \n",
            "2     1 -1.358354 -1.340163  1.773209  0.379780 -0.503198  1.800499  0.791461   \n",
            "3     1 -0.966272 -0.185226  1.792993 -0.863291 -0.010309  1.247203  0.237609   \n",
            "4     2 -1.158233  0.877737  1.548718  0.403034 -0.407193  0.095921  0.592941   \n",
            "\n",
            "         V8        V9  ...       V21       V22       V23       V24       V25  \\\n",
            "0  0.098698  0.363787  ... -0.018307  0.277838 -0.110474  0.066928  0.128539   \n",
            "1  0.085102 -0.255425  ... -0.225775 -0.638672  0.101288 -0.339846  0.167170   \n",
            "2  0.247676 -1.514654  ...  0.247998  0.771679  0.909412 -0.689281 -0.327642   \n",
            "3  0.377436 -1.387024  ... -0.108300  0.005274 -0.190321 -1.175575  0.647376   \n",
            "4 -0.270533  0.817739  ... -0.009431  0.798278 -0.137458  0.141267 -0.206010   \n",
            "\n",
            "        V26       V27       V28  Amount  Class  \n",
            "0 -0.189115  0.133558 -0.021053  149.62    0.0  \n",
            "1  0.125895 -0.008983  0.014724    2.69    0.0  \n",
            "2 -0.139097 -0.055353 -0.059752  378.66    0.0  \n",
            "3 -0.221929  0.062723  0.061458  123.50    0.0  \n",
            "4  0.502292  0.219422  0.215153   69.99    0.0  \n",
            "\n",
            "[5 rows x 31 columns]\n",
            "Class\n",
            "0.0    11906\n",
            "1.0       52\n",
            "Name: count, dtype: int64\n"
          ]
        }
      ]
    },
    {
      "cell_type": "markdown",
      "source": [
        "3️⃣ Data Preprocessing\n",
        "\n",
        "💡 Explanation\n",
        "✅ Checks missing values (Fraud detection must have clean data) ✅ Splits dataset into X (transaction details) and y (fraud labels) ✅ Stratified split → Keeps fraud/non-fraud ratio balanced ✅ Standardization → Improves model performance"
      ],
      "metadata": {
        "id": "QDSFaDhKMYD4"
      }
    },
    {
      "cell_type": "code",
      "source": [
        "# Import necessary libraries\n",
        "#import pandas as pd\n",
        "#from sklearn.model_selection import train_test_split\n",
        "#from sklearn.preprocessing import StandardScaler\n",
        "\n",
        "# Load dataset (assuming df is already defined)\n",
        "# df = pd.read_csv(\"your_data.csv\")  # Uncomment if you need to load data\n",
        "\n",
        "# Check for missing values in 'Class' column\n",
        "print(\"Missing values before:\", df[\"Class\"].isnull().sum())\n",
        "\n",
        "# Fill NaN values in 'Class' with the most frequent value\n",
        "y = df[\"Class\"].fillna(df[\"Class\"].mode()[0])\n",
        "\n",
        "# Confirm NaN removal\n",
        "print(\"Missing values after:\", y.isnull().sum())\n",
        "\n",
        "# Separate features and target labels\n",
        "X = df.drop(\"Class\", axis=1)  # Features (Transaction details)\n",
        "\n",
        "# Split dataset into training and testing sets\n",
        "X_train, X_test, y_train, y_test = train_test_split(X, y, test_size=0.2, random_state=42, stratify=y)\n",
        "\n",
        "# Standardize numerical values\n",
        "scaler = StandardScaler()\n",
        "X_train = scaler.fit_transform(X_train)\n",
        "X_test = scaler.transform(X_test)\n",
        "\n",
        "print(\"Data preprocessing completed successfully!\")\n"
      ],
      "metadata": {
        "colab": {
          "base_uri": "https://localhost:8080/"
        },
        "id": "5z-u5GJMMd9e",
        "outputId": "99374871-8959-4ed3-f9a4-14f6dd69355e"
      },
      "execution_count": 5,
      "outputs": [
        {
          "output_type": "stream",
          "name": "stdout",
          "text": [
            "Missing values before: 1\n",
            "Missing values after: 0\n",
            "Data preprocessing completed successfully!\n"
          ]
        }
      ]
    },
    {
      "cell_type": "markdown",
      "source": [
        "4️⃣ Build Neural Network Model\n",
        "\n",
        "💡 Explanation\n",
        "✅ First hidden layer → Uses ReLU for better learning ✅ Dropout → Prevents overfitting by ignoring random neurons ✅ Sigmoid output layer → Outputs probability (0 = Non-Fraud, 1 = Fraud) ✅ Binary cross-entropy loss function → Best for fraud classification"
      ],
      "metadata": {
        "id": "WRuDI57dNMfK"
      }
    },
    {
      "cell_type": "code",
      "source": [
        "model = Sequential([\n",
        "    Dense(64, activation=\"relu\", input_shape=(X_train.shape[1],)),  # First hidden layer with 64 neurons\n",
        "    Dropout(0.3),  # Prevents overfitting\n",
        "    Dense(32, activation=\"relu\"),  # Second hidden layer\n",
        "    Dense(1, activation=\"sigmoid\")  # Output layer (probability prediction)\n",
        "])\n",
        "\n",
        "# Compile model\n",
        "model.compile(optimizer=\"adam\", loss=\"binary_crossentropy\", metrics=[\"accuracy\"])\n"
      ],
      "metadata": {
        "colab": {
          "base_uri": "https://localhost:8080/"
        },
        "id": "KXfEqYNPNU1h",
        "outputId": "6f55ec65-eaaf-4ae4-c3d7-b4ddb3c36906"
      },
      "execution_count": 6,
      "outputs": [
        {
          "output_type": "stream",
          "name": "stderr",
          "text": [
            "/usr/local/lib/python3.11/dist-packages/keras/src/layers/core/dense.py:87: UserWarning: Do not pass an `input_shape`/`input_dim` argument to a layer. When using Sequential models, prefer using an `Input(shape)` object as the first layer in the model instead.\n",
            "  super().__init__(activity_regularizer=activity_regularizer, **kwargs)\n"
          ]
        }
      ]
    },
    {
      "cell_type": "markdown",
      "source": [
        "5️⃣ Train the Model\n",
        "\n",
        "💡 Explanation\n",
        "✅ Trains the model for 50 epochs ✅ Batch size: 32 (Processes data in small chunks) ✅ Validation split: 20% of data used for validation ✅ verbose=1 → Shows training updates"
      ],
      "metadata": {
        "id": "HY_POw9eNXys"
      }
    },
    {
      "cell_type": "code",
      "source": [
        "history = model.fit(X_train, y_train, epochs=50, batch_size=32, validation_split=0.2, verbose=1)\n"
      ],
      "metadata": {
        "colab": {
          "base_uri": "https://localhost:8080/"
        },
        "id": "8S4UfTkjNdQ_",
        "outputId": "c2772f26-c0d0-46c3-a818-18c7887cc658"
      },
      "execution_count": 7,
      "outputs": [
        {
          "output_type": "stream",
          "name": "stdout",
          "text": [
            "Epoch 1/50\n",
            "\u001b[1m240/240\u001b[0m \u001b[32m━━━━━━━━━━━━━━━━━━━━\u001b[0m\u001b[37m\u001b[0m \u001b[1m2s\u001b[0m 4ms/step - accuracy: 0.9225 - loss: nan - val_accuracy: 0.9969 - val_loss: nan\n",
            "Epoch 2/50\n",
            "\u001b[1m240/240\u001b[0m \u001b[32m━━━━━━━━━━━━━━━━━━━━\u001b[0m\u001b[37m\u001b[0m \u001b[1m1s\u001b[0m 3ms/step - accuracy: 0.9957 - loss: nan - val_accuracy: 0.9969 - val_loss: nan\n",
            "Epoch 3/50\n",
            "\u001b[1m240/240\u001b[0m \u001b[32m━━━━━━━━━━━━━━━━━━━━\u001b[0m\u001b[37m\u001b[0m \u001b[1m1s\u001b[0m 2ms/step - accuracy: 0.9955 - loss: nan - val_accuracy: 0.9969 - val_loss: nan\n",
            "Epoch 4/50\n",
            "\u001b[1m240/240\u001b[0m \u001b[32m━━━━━━━━━━━━━━━━━━━━\u001b[0m\u001b[37m\u001b[0m \u001b[1m1s\u001b[0m 3ms/step - accuracy: 0.9955 - loss: nan - val_accuracy: 0.9969 - val_loss: nan\n",
            "Epoch 5/50\n",
            "\u001b[1m240/240\u001b[0m \u001b[32m━━━━━━━━━━━━━━━━━━━━\u001b[0m\u001b[37m\u001b[0m \u001b[1m1s\u001b[0m 3ms/step - accuracy: 0.9959 - loss: nan - val_accuracy: 0.9969 - val_loss: nan\n",
            "Epoch 6/50\n",
            "\u001b[1m240/240\u001b[0m \u001b[32m━━━━━━━━━━━━━━━━━━━━\u001b[0m\u001b[37m\u001b[0m \u001b[1m1s\u001b[0m 3ms/step - accuracy: 0.9952 - loss: nan - val_accuracy: 0.9969 - val_loss: nan\n",
            "Epoch 7/50\n",
            "\u001b[1m240/240\u001b[0m \u001b[32m━━━━━━━━━━━━━━━━━━━━\u001b[0m\u001b[37m\u001b[0m \u001b[1m2s\u001b[0m 4ms/step - accuracy: 0.9953 - loss: nan - val_accuracy: 0.9969 - val_loss: nan\n",
            "Epoch 8/50\n",
            "\u001b[1m240/240\u001b[0m \u001b[32m━━━━━━━━━━━━━━━━━━━━\u001b[0m\u001b[37m\u001b[0m \u001b[1m1s\u001b[0m 5ms/step - accuracy: 0.9952 - loss: nan - val_accuracy: 0.9969 - val_loss: nan\n",
            "Epoch 9/50\n",
            "\u001b[1m240/240\u001b[0m \u001b[32m━━━━━━━━━━━━━━━━━━━━\u001b[0m\u001b[37m\u001b[0m \u001b[1m1s\u001b[0m 3ms/step - accuracy: 0.9948 - loss: nan - val_accuracy: 0.9969 - val_loss: nan\n",
            "Epoch 10/50\n",
            "\u001b[1m240/240\u001b[0m \u001b[32m━━━━━━━━━━━━━━━━━━━━\u001b[0m\u001b[37m\u001b[0m \u001b[1m1s\u001b[0m 3ms/step - accuracy: 0.9961 - loss: nan - val_accuracy: 0.9969 - val_loss: nan\n",
            "Epoch 11/50\n",
            "\u001b[1m240/240\u001b[0m \u001b[32m━━━━━━━━━━━━━━━━━━━━\u001b[0m\u001b[37m\u001b[0m \u001b[1m1s\u001b[0m 3ms/step - accuracy: 0.9954 - loss: nan - val_accuracy: 0.9969 - val_loss: nan\n",
            "Epoch 12/50\n",
            "\u001b[1m240/240\u001b[0m \u001b[32m━━━━━━━━━━━━━━━━━━━━\u001b[0m\u001b[37m\u001b[0m \u001b[1m2s\u001b[0m 7ms/step - accuracy: 0.9947 - loss: nan - val_accuracy: 0.9969 - val_loss: nan\n",
            "Epoch 13/50\n",
            "\u001b[1m240/240\u001b[0m \u001b[32m━━━━━━━━━━━━━━━━━━━━\u001b[0m\u001b[37m\u001b[0m \u001b[1m3s\u001b[0m 7ms/step - accuracy: 0.9956 - loss: nan - val_accuracy: 0.9969 - val_loss: nan\n",
            "Epoch 14/50\n",
            "\u001b[1m240/240\u001b[0m \u001b[32m━━━━━━━━━━━━━━━━━━━━\u001b[0m\u001b[37m\u001b[0m \u001b[1m2s\u001b[0m 7ms/step - accuracy: 0.9948 - loss: nan - val_accuracy: 0.9969 - val_loss: nan\n",
            "Epoch 15/50\n",
            "\u001b[1m240/240\u001b[0m \u001b[32m━━━━━━━━━━━━━━━━━━━━\u001b[0m\u001b[37m\u001b[0m \u001b[1m3s\u001b[0m 9ms/step - accuracy: 0.9957 - loss: nan - val_accuracy: 0.9969 - val_loss: nan\n",
            "Epoch 16/50\n",
            "\u001b[1m240/240\u001b[0m \u001b[32m━━━━━━━━━━━━━━━━━━━━\u001b[0m\u001b[37m\u001b[0m \u001b[1m1s\u001b[0m 3ms/step - accuracy: 0.9949 - loss: nan - val_accuracy: 0.9969 - val_loss: nan\n",
            "Epoch 17/50\n",
            "\u001b[1m240/240\u001b[0m \u001b[32m━━━━━━━━━━━━━━━━━━━━\u001b[0m\u001b[37m\u001b[0m \u001b[1m1s\u001b[0m 3ms/step - accuracy: 0.9956 - loss: nan - val_accuracy: 0.9969 - val_loss: nan\n",
            "Epoch 18/50\n",
            "\u001b[1m240/240\u001b[0m \u001b[32m━━━━━━━━━━━━━━━━━━━━\u001b[0m\u001b[37m\u001b[0m \u001b[1m1s\u001b[0m 3ms/step - accuracy: 0.9950 - loss: nan - val_accuracy: 0.9969 - val_loss: nan\n",
            "Epoch 19/50\n",
            "\u001b[1m240/240\u001b[0m \u001b[32m━━━━━━━━━━━━━━━━━━━━\u001b[0m\u001b[37m\u001b[0m \u001b[1m1s\u001b[0m 3ms/step - accuracy: 0.9964 - loss: nan - val_accuracy: 0.9969 - val_loss: nan\n",
            "Epoch 20/50\n",
            "\u001b[1m240/240\u001b[0m \u001b[32m━━━━━━━━━━━━━━━━━━━━\u001b[0m\u001b[37m\u001b[0m \u001b[1m1s\u001b[0m 2ms/step - accuracy: 0.9960 - loss: nan - val_accuracy: 0.9969 - val_loss: nan\n",
            "Epoch 21/50\n",
            "\u001b[1m240/240\u001b[0m \u001b[32m━━━━━━━━━━━━━━━━━━━━\u001b[0m\u001b[37m\u001b[0m \u001b[1m1s\u001b[0m 3ms/step - accuracy: 0.9971 - loss: nan - val_accuracy: 0.9969 - val_loss: nan\n",
            "Epoch 22/50\n",
            "\u001b[1m240/240\u001b[0m \u001b[32m━━━━━━━━━━━━━━━━━━━━\u001b[0m\u001b[37m\u001b[0m \u001b[1m1s\u001b[0m 3ms/step - accuracy: 0.9955 - loss: nan - val_accuracy: 0.9969 - val_loss: nan\n",
            "Epoch 23/50\n",
            "\u001b[1m240/240\u001b[0m \u001b[32m━━━━━━━━━━━━━━━━━━━━\u001b[0m\u001b[37m\u001b[0m \u001b[1m1s\u001b[0m 3ms/step - accuracy: 0.9954 - loss: nan - val_accuracy: 0.9969 - val_loss: nan\n",
            "Epoch 24/50\n",
            "\u001b[1m240/240\u001b[0m \u001b[32m━━━━━━━━━━━━━━━━━━━━\u001b[0m\u001b[37m\u001b[0m \u001b[1m1s\u001b[0m 3ms/step - accuracy: 0.9955 - loss: nan - val_accuracy: 0.9969 - val_loss: nan\n",
            "Epoch 25/50\n",
            "\u001b[1m240/240\u001b[0m \u001b[32m━━━━━━━━━━━━━━━━━━━━\u001b[0m\u001b[37m\u001b[0m \u001b[1m1s\u001b[0m 3ms/step - accuracy: 0.9951 - loss: nan - val_accuracy: 0.9969 - val_loss: nan\n",
            "Epoch 26/50\n",
            "\u001b[1m240/240\u001b[0m \u001b[32m━━━━━━━━━━━━━━━━━━━━\u001b[0m\u001b[37m\u001b[0m \u001b[1m1s\u001b[0m 3ms/step - accuracy: 0.9963 - loss: nan - val_accuracy: 0.9969 - val_loss: nan\n",
            "Epoch 27/50\n",
            "\u001b[1m240/240\u001b[0m \u001b[32m━━━━━━━━━━━━━━━━━━━━\u001b[0m\u001b[37m\u001b[0m \u001b[1m1s\u001b[0m 3ms/step - accuracy: 0.9942 - loss: nan - val_accuracy: 0.9969 - val_loss: nan\n",
            "Epoch 28/50\n",
            "\u001b[1m240/240\u001b[0m \u001b[32m━━━━━━━━━━━━━━━━━━━━\u001b[0m\u001b[37m\u001b[0m \u001b[1m1s\u001b[0m 5ms/step - accuracy: 0.9954 - loss: nan - val_accuracy: 0.9969 - val_loss: nan\n",
            "Epoch 29/50\n",
            "\u001b[1m240/240\u001b[0m \u001b[32m━━━━━━━━━━━━━━━━━━━━\u001b[0m\u001b[37m\u001b[0m \u001b[1m1s\u001b[0m 4ms/step - accuracy: 0.9958 - loss: nan - val_accuracy: 0.9969 - val_loss: nan\n",
            "Epoch 30/50\n",
            "\u001b[1m240/240\u001b[0m \u001b[32m━━━━━━━━━━━━━━━━━━━━\u001b[0m\u001b[37m\u001b[0m \u001b[1m1s\u001b[0m 3ms/step - accuracy: 0.9935 - loss: nan - val_accuracy: 0.9969 - val_loss: nan\n",
            "Epoch 31/50\n",
            "\u001b[1m240/240\u001b[0m \u001b[32m━━━━━━━━━━━━━━━━━━━━\u001b[0m\u001b[37m\u001b[0m \u001b[1m1s\u001b[0m 3ms/step - accuracy: 0.9965 - loss: nan - val_accuracy: 0.9969 - val_loss: nan\n",
            "Epoch 32/50\n",
            "\u001b[1m240/240\u001b[0m \u001b[32m━━━━━━━━━━━━━━━━━━━━\u001b[0m\u001b[37m\u001b[0m \u001b[1m1s\u001b[0m 3ms/step - accuracy: 0.9942 - loss: nan - val_accuracy: 0.9969 - val_loss: nan\n",
            "Epoch 33/50\n",
            "\u001b[1m240/240\u001b[0m \u001b[32m━━━━━━━━━━━━━━━━━━━━\u001b[0m\u001b[37m\u001b[0m \u001b[1m1s\u001b[0m 3ms/step - accuracy: 0.9946 - loss: nan - val_accuracy: 0.9969 - val_loss: nan\n",
            "Epoch 34/50\n",
            "\u001b[1m240/240\u001b[0m \u001b[32m━━━━━━━━━━━━━━━━━━━━\u001b[0m\u001b[37m\u001b[0m \u001b[1m1s\u001b[0m 3ms/step - accuracy: 0.9958 - loss: nan - val_accuracy: 0.9969 - val_loss: nan\n",
            "Epoch 35/50\n",
            "\u001b[1m240/240\u001b[0m \u001b[32m━━━━━━━━━━━━━━━━━━━━\u001b[0m\u001b[37m\u001b[0m \u001b[1m1s\u001b[0m 3ms/step - accuracy: 0.9950 - loss: nan - val_accuracy: 0.9969 - val_loss: nan\n",
            "Epoch 36/50\n",
            "\u001b[1m240/240\u001b[0m \u001b[32m━━━━━━━━━━━━━━━━━━━━\u001b[0m\u001b[37m\u001b[0m \u001b[1m1s\u001b[0m 3ms/step - accuracy: 0.9953 - loss: nan - val_accuracy: 0.9969 - val_loss: nan\n",
            "Epoch 37/50\n",
            "\u001b[1m240/240\u001b[0m \u001b[32m━━━━━━━━━━━━━━━━━━━━\u001b[0m\u001b[37m\u001b[0m \u001b[1m1s\u001b[0m 2ms/step - accuracy: 0.9956 - loss: nan - val_accuracy: 0.9969 - val_loss: nan\n",
            "Epoch 38/50\n",
            "\u001b[1m240/240\u001b[0m \u001b[32m━━━━━━━━━━━━━━━━━━━━\u001b[0m\u001b[37m\u001b[0m \u001b[1m1s\u001b[0m 3ms/step - accuracy: 0.9955 - loss: nan - val_accuracy: 0.9969 - val_loss: nan\n",
            "Epoch 39/50\n",
            "\u001b[1m240/240\u001b[0m \u001b[32m━━━━━━━━━━━━━━━━━━━━\u001b[0m\u001b[37m\u001b[0m \u001b[1m1s\u001b[0m 3ms/step - accuracy: 0.9951 - loss: nan - val_accuracy: 0.9969 - val_loss: nan\n",
            "Epoch 40/50\n",
            "\u001b[1m240/240\u001b[0m \u001b[32m━━━━━━━━━━━━━━━━━━━━\u001b[0m\u001b[37m\u001b[0m \u001b[1m2s\u001b[0m 5ms/step - accuracy: 0.9952 - loss: nan - val_accuracy: 0.9969 - val_loss: nan\n",
            "Epoch 41/50\n",
            "\u001b[1m240/240\u001b[0m \u001b[32m━━━━━━━━━━━━━━━━━━━━\u001b[0m\u001b[37m\u001b[0m \u001b[1m1s\u001b[0m 5ms/step - accuracy: 0.9949 - loss: nan - val_accuracy: 0.9969 - val_loss: nan\n",
            "Epoch 42/50\n",
            "\u001b[1m240/240\u001b[0m \u001b[32m━━━━━━━━━━━━━━━━━━━━\u001b[0m\u001b[37m\u001b[0m \u001b[1m1s\u001b[0m 3ms/step - accuracy: 0.9955 - loss: nan - val_accuracy: 0.9969 - val_loss: nan\n",
            "Epoch 43/50\n",
            "\u001b[1m240/240\u001b[0m \u001b[32m━━━━━━━━━━━━━━━━━━━━\u001b[0m\u001b[37m\u001b[0m \u001b[1m1s\u001b[0m 3ms/step - accuracy: 0.9955 - loss: nan - val_accuracy: 0.9969 - val_loss: nan\n",
            "Epoch 44/50\n",
            "\u001b[1m240/240\u001b[0m \u001b[32m━━━━━━━━━━━━━━━━━━━━\u001b[0m\u001b[37m\u001b[0m \u001b[1m1s\u001b[0m 3ms/step - accuracy: 0.9960 - loss: nan - val_accuracy: 0.9969 - val_loss: nan\n",
            "Epoch 45/50\n",
            "\u001b[1m240/240\u001b[0m \u001b[32m━━━━━━━━━━━━━━━━━━━━\u001b[0m\u001b[37m\u001b[0m \u001b[1m1s\u001b[0m 3ms/step - accuracy: 0.9965 - loss: nan - val_accuracy: 0.9969 - val_loss: nan\n",
            "Epoch 46/50\n",
            "\u001b[1m240/240\u001b[0m \u001b[32m━━━━━━━━━━━━━━━━━━━━\u001b[0m\u001b[37m\u001b[0m \u001b[1m1s\u001b[0m 3ms/step - accuracy: 0.9953 - loss: nan - val_accuracy: 0.9969 - val_loss: nan\n",
            "Epoch 47/50\n",
            "\u001b[1m240/240\u001b[0m \u001b[32m━━━━━━━━━━━━━━━━━━━━\u001b[0m\u001b[37m\u001b[0m \u001b[1m1s\u001b[0m 3ms/step - accuracy: 0.9957 - loss: nan - val_accuracy: 0.9969 - val_loss: nan\n",
            "Epoch 48/50\n",
            "\u001b[1m240/240\u001b[0m \u001b[32m━━━━━━━━━━━━━━━━━━━━\u001b[0m\u001b[37m\u001b[0m \u001b[1m1s\u001b[0m 3ms/step - accuracy: 0.9958 - loss: nan - val_accuracy: 0.9969 - val_loss: nan\n",
            "Epoch 49/50\n",
            "\u001b[1m240/240\u001b[0m \u001b[32m━━━━━━━━━━━━━━━━━━━━\u001b[0m\u001b[37m\u001b[0m \u001b[1m1s\u001b[0m 3ms/step - accuracy: 0.9960 - loss: nan - val_accuracy: 0.9969 - val_loss: nan\n",
            "Epoch 50/50\n",
            "\u001b[1m240/240\u001b[0m \u001b[32m━━━━━━━━━━━━━━━━━━━━\u001b[0m\u001b[37m\u001b[0m \u001b[1m1s\u001b[0m 3ms/step - accuracy: 0.9950 - loss: nan - val_accuracy: 0.9969 - val_loss: nan\n"
          ]
        }
      ]
    },
    {
      "cell_type": "markdown",
      "source": [
        "6️⃣ Evaluate Model Performance\n",
        "\n",
        "💡 Explanation\n",
        "✅ Evaluates model performance with key metrics ✅ Precision & Recall are important for fraud detection ✅ Higher Recall means fewer fraudulent transactions are missed"
      ],
      "metadata": {
        "id": "HsxeEJriNwuM"
      }
    },
    {
      "cell_type": "code",
      "source": [
        "# Make predictions\n",
        "y_pred = model.predict(X_test)\n",
        "y_pred = (y_pred > 0.5).astype(int)  # Convert probabilities into 0 or 1\n",
        "\n",
        "# Compute Metrics\n",
        "accuracy = accuracy_score(y_test, y_pred)\n",
        "precision = precision_score(y_test, y_pred)\n",
        "recall = recall_score(y_test, y_pred)\n",
        "f1 = f1_score(y_test, y_pred)\n",
        "roc_auc = roc_auc_score(y_test, y_pred)\n",
        "\n",
        "print(f\"Accuracy: {accuracy:.2f}\")\n",
        "print(f\"Precision: {precision:.2f}\")\n",
        "print(f\"Recall: {recall:.2f}\")\n",
        "print(f\"F1 Score: {f1:.2f}\")\n",
        "print(f\"ROC-AUC: {roc_auc:.2f}\")\n"
      ],
      "metadata": {
        "colab": {
          "base_uri": "https://localhost:8080/"
        },
        "id": "ZLDWL9TBN0YB",
        "outputId": "0c192e79-c94d-4f52-9ff2-41a34d53fd52"
      },
      "execution_count": 9,
      "outputs": [
        {
          "output_type": "stream",
          "name": "stdout",
          "text": [
            "\u001b[1m75/75\u001b[0m \u001b[32m━━━━━━━━━━━━━━━━━━━━\u001b[0m\u001b[37m\u001b[0m \u001b[1m0s\u001b[0m 4ms/step\n",
            "Accuracy: 1.00\n",
            "Precision: 0.00\n",
            "Recall: 0.00\n",
            "F1 Score: 0.00\n",
            "ROC-AUC: 0.50\n"
          ]
        },
        {
          "output_type": "stream",
          "name": "stderr",
          "text": [
            "/usr/local/lib/python3.11/dist-packages/sklearn/metrics/_classification.py:1565: UndefinedMetricWarning: Precision is ill-defined and being set to 0.0 due to no predicted samples. Use `zero_division` parameter to control this behavior.\n",
            "  _warn_prf(average, modifier, f\"{metric.capitalize()} is\", len(result))\n"
          ]
        }
      ]
    },
    {
      "cell_type": "markdown",
      "source": [
        "7️⃣ Visualizing Results\n",
        "\n",
        "📌 Confusion Matrix and 📌 ROC Curve\n",
        "\n",
        "💡 Explanation\n",
        "✅ Confusion Matrix → Shows how many fraud transactions were correctly identified ✅ ROC Curve → Measures how well the model distinguishes fraud"
      ],
      "metadata": {
        "id": "BxaX_JbUN8II"
      }
    },
    {
      "cell_type": "code",
      "source": [
        "# 📌 Confusion Matrix\n",
        "\n",
        "plt.figure(figsize=(6,6))\n",
        "sns.heatmap(confusion_matrix(y_test, y_pred), annot=True, fmt=\"d\", cmap=\"Blues\")\n",
        "plt.xlabel(\"Predicted Label\")\n",
        "plt.ylabel(\"True Label\")\n",
        "plt.title(\"Confusion Matrix\")\n",
        "plt.show()\n"
      ],
      "metadata": {
        "colab": {
          "base_uri": "https://localhost:8080/",
          "height": 564
        },
        "id": "Wxh07HhRONzU",
        "outputId": "456b8e79-59e7-40af-f1b8-bad3bb8839d3"
      },
      "execution_count": 10,
      "outputs": [
        {
          "output_type": "display_data",
          "data": {
            "text/plain": [
              "<Figure size 600x600 with 2 Axes>"
            ],
            "image/png": "[encoded data removed]"
          },
          "metadata": {}
        }
      ]
    },
    {
      "cell_type": "code",
      "source": [
        "# 📌 ROC Curve\n",
        "\n",
        "fpr, tpr, thresholds = roc_curve(y_test, y_pred)\n",
        "plt.plot(fpr, tpr, label=\"ROC Curve\")\n",
        "plt.xlabel(\"False Positive Rate\")\n",
        "plt.ylabel(\"True Positive Rate\")\n",
        "plt.title(\"ROC Curve\")\n",
        "plt.legend()\n",
        "plt.show()\n"
      ],
      "metadata": {
        "colab": {
          "base_uri": "https://localhost:8080/",
          "height": 472
        },
        "id": "BmxhuWsJOVL1",
        "outputId": "3ccc2ba2-7e65-4084-f4ff-36c1ca464fde"
      },
      "execution_count": 11,
      "outputs": [
        {
          "output_type": "display_data",
          "data": {
            "text/plain": [
              "<Figure size 640x480 with 1 Axes>"
            ],
            "image/png": "[encoded data removed]"
          },
          "metadata": {}
        }
      ]
    },
    {
      "cell_type": "markdown",
      "source": [
        "8️⃣ Hyperparameter Tuning\n",
        "\n",
        "💡 Explanation\n",
        "✅ Tests different neuron counts, dropout rates, learning rates ✅ Finds best model configuration automatically"
      ],
      "metadata": {
        "id": "9n3K9LxvOat9"
      }
    },
    {
      "cell_type": "code",
      "source": [
        "!pip install keras-tuner\n",
        "import keras_tuner as kt\n",
        "\n",
        "def build_model(hp):\n",
        "    model = Sequential()\n",
        "    model.add(Dense(hp.Int(\"units\", min_value=32, max_value=128, step=32), activation=\"relu\", input_shape=(X_train.shape[1],)))\n",
        "    model.add(Dropout(hp.Float(\"dropout\", min_value=0.2, max_value=0.5, step=0.1)))\n",
        "    model.add(Dense(1, activation=\"sigmoid\"))\n",
        "\n",
        "    model.compile(optimizer=\"adam\", loss=\"binary_crossentropy\", metrics=[\"accuracy\"])\n",
        "    return model\n",
        "\n",
        "tuner = kt.RandomSearch(build_model, objective=\"val_accuracy\", max_trials=5)\n",
        "tuner.search(X_train, y_train, epochs=50, validation_split=0.2)\n"
      ],
      "metadata": {
        "colab": {
          "base_uri": "https://localhost:8080/"
        },
        "id": "6DRSEIPBOhtu",
        "outputId": "05010190-351f-48d3-89a0-825b74b1f700"
      },
      "execution_count": 13,
      "outputs": [
        {
          "output_type": "stream",
          "name": "stdout",
          "text": [
            "Trial 5 Complete [00h 00m 55s]\n",
            "val_accuracy: 0.9968652129173279\n",
            "\n",
            "Best val_accuracy So Far: 0.9968652129173279\n",
            "Total elapsed time: 00h 04m 48s\n"
          ]
        }
      ]
    },
    {
      "cell_type": "markdown",
      "source": [],
      "metadata": {
        "id": "TNJVXg2nQFUe"
      }
    },
    {
      "cell_type": "markdown",
      "source": [
        "9️⃣ K-Fold Cross-Validation\n",
        "\n",
        "💡 Explanation\n",
        "✅ Tests model performance on different splits of data ✅ Ensures model generalizes well"
      ],
      "metadata": {
        "id": "l7RNzCMcUAbg"
      }
    },
    {
      "cell_type": "code",
      "source": [
        "from sklearn.model_selection import KFold\n",
        "\n",
        "kf = KFold(n_splits=5, shuffle=True, random_state=42)\n",
        "\n",
        "for train_idx, test_idx in kf.split(X):\n",
        "    X_train_kfold, X_test_kfold = X.iloc[train_idx], X.iloc[test_idx]\n",
        "    y_train_kfold, y_test_kfold = y.iloc[train_idx], y.iloc[test_idx]\n",
        "\n",
        "    # Train model\n",
        "    model.fit(X_train_kfold, y_train_kfold, epochs=30, batch_size=16, verbose=0)\n",
        "\n",
        "    # Evaluate on validation set\n",
        "    loss, accuracy = model.evaluate(X_test_kfold, y_test_kfold, verbose=0)\n",
        "    print(f\"K-Fold Accuracy: {accuracy:.2f}\")\n"
      ],
      "metadata": {
        "colab": {
          "base_uri": "https://localhost:8080/"
        },
        "id": "8tXfCOnnUFtb",
        "outputId": "cb50b31c-d95b-450f-815e-68bab610c396"
      },
      "execution_count": 16,
      "outputs": [
        {
          "output_type": "stream",
          "name": "stdout",
          "text": [
            "K-Fold Accuracy: 1.00\n",
            "K-Fold Accuracy: 0.99\n",
            "K-Fold Accuracy: 1.00\n",
            "K-Fold Accuracy: 1.00\n",
            "K-Fold Accuracy: 0.99\n"
          ]
        }
      ]
    }
  ]
}